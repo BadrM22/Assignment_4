{
 "cells": [
  {
   "cell_type": "code",
   "execution_count": 6,
   "id": "fancy-latino",
   "metadata": {},
   "outputs": [],
   "source": [
    "file=open('test.txt',\"w\")\n",
    "file.write(\"hello world\\n\"*5)\n",
    "file.close()\n",
    "\n",
    "file=open(\"test.txt\",\"r+\")\n",
    "text_upper=file.read().upper()\n",
    "file.seek(0)\n",
    "file.write(text_upper)\n",
    "file.close()\n",
    "\n",
    "with open('test.txt',\"r+\") as file:\n",
    "    lines=file.readlines()\n",
    "    third_line=lines[2].capitalize()\n",
    "    file.seek(24)\n",
    "    file.write(third_line)\n",
    "    \n",
    "    \n",
    "    \n",
    "with open('test.txt','a')as file:\n",
    "    file.write(\"I Love Python\")"
   ]
  },
  {
   "cell_type": "code",
   "execution_count": 126,
   "id": "encouraging-terminal",
   "metadata": {},
   "outputs": [
    {
     "name": "stdout",
     "output_type": "stream",
     "text": [
      "\n"
     ]
    }
   ],
   "source": [
    "\n",
    "    "
   ]
  }
 ],
 "metadata": {
  "kernelspec": {
   "display_name": "Python 3",
   "language": "python",
   "name": "python3"
  },
  "language_info": {
   "codemirror_mode": {
    "name": "ipython",
    "version": 3
   },
   "file_extension": ".py",
   "mimetype": "text/x-python",
   "name": "python",
   "nbconvert_exporter": "python",
   "pygments_lexer": "ipython3",
   "version": "3.9.1"
  }
 },
 "nbformat": 4,
 "nbformat_minor": 5
}
